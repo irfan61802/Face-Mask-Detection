{
 "cells": [
  {
   "cell_type": "code",
   "execution_count": null,
   "id": "db991f98",
   "metadata": {
    "scrolled": true
   },
   "outputs": [],
   "source": [
    "import os,glob\n",
    "import numpy as np\n",
    "import seaborn as sb\n",
    "import matplotlib.pyplot as plt\n",
    "import pandas as pd\n",
    "import cv2\n",
    "import time\n",
    "\n",
    "\n",
    "from sklearn.model_selection import train_test_split\n",
    "from tensorflow.keras.preprocessing.image import ImageDataGenerator\n",
    "from tensorflow.keras.models import Model\n",
    "from tensorflow.keras.layers import Conv2D, MaxPooling2D, Flatten, Dense, Dropout, GlobalAveragePooling2D\n",
    "from tensorflow.keras.callbacks import Callback,EarlyStopping\n",
    "from tensorflow.keras import Sequential\n",
    "from sklearn import metrics\n",
    "#for ResNet50\n",
    "from tensorflow.keras.applications import ResNet50V2, MobileNetV2, InceptionResNetV2\n",
    "from tensorflow.keras.applications.resnet50 import preprocess_input\n",
    "from sklearn.metrics import classification_report\n",
    "#for Xception\n",
    "from tf_explain.core.activations import ExtractActivations\n",
    "from tensorflow.keras.applications.xception import decode_predictions"
   ]
  },
  {
   "cell_type": "code",
   "execution_count": null,
   "id": "b0610c89",
   "metadata": {},
   "outputs": [],
   "source": [
    "#get file path of training data \n",
    "file_path='data'\n",
    "#get classes from folder names for benign and malignant\n",
    "name_class=os.listdir(file_path)\n",
    "name_class"
   ]
  },
  {
   "cell_type": "code",
   "execution_count": null,
   "id": "bff7a4d8",
   "metadata": {},
   "outputs": [],
   "source": [
    "#get and store filepaths of all images\n",
    "filepaths=list(glob.glob(file_path+'/**/*.*'))\n",
    "#store the labels according to folder\n",
    "labels=list(map(lambda x: os.path.split(os.path.split(x)[0])[1], filepaths))\n",
    "labels"
   ]
  },
  {
   "cell_type": "code",
   "execution_count": null,
   "id": "a5529fad",
   "metadata": {
    "scrolled": true
   },
   "outputs": [],
   "source": [
    "#store data as series\n",
    "filepath= pd.Series(filepaths, name='Filepath').astype(str)\n",
    "labels=pd.Series(labels, name='Label')\n",
    "data=pd.concat([filepath, labels],axis=1)\n",
    "data=data.sample(frac=1).reset_index(drop=True)\n",
    "data.head(5)"
   ]
  },
  {
   "cell_type": "code",
   "execution_count": null,
   "id": "7a501e6e",
   "metadata": {},
   "outputs": [],
   "source": [
    "#check count of each class\n",
    "counts=data.Label.value_counts()\n",
    "sb.barplot(x=counts.index, y=counts)\n",
    "plt.xlabel('Type')\n",
    "plt.xticks(rotation=90)"
   ]
  },
  {
   "cell_type": "code",
   "execution_count": null,
   "id": "200ade83",
   "metadata": {},
   "outputs": [],
   "source": [
    "#train test split for validation with 0.25 \n",
    "train, test= train_test_split(data, test_size=0.20, stratify=labels, random_state=53)"
   ]
  },
  {
   "cell_type": "code",
   "execution_count": null,
   "id": "ed13e2fe",
   "metadata": {
    "scrolled": true
   },
   "outputs": [],
   "source": [
    "#apply preprocessing: normalizing, reshaping, augmentation\n",
    "train_datagen = ImageDataGenerator(\n",
    "    rescale=1. / 255,\n",
    "    rotation_range=20,\n",
    "    zoom_range=0.15,\n",
    "    width_shift_range=0.2,\n",
    "    height_shift_range=0.2,\n",
    "    shear_range=0.15,\n",
    "    horizontal_flip=True,\n",
    "    fill_mode=\"nearest\")\n",
    "\n",
    "test_datagen = ImageDataGenerator(rescale=1. /255)"
   ]
  },
  {
   "cell_type": "code",
   "execution_count": null,
   "id": "6dd9d523",
   "metadata": {},
   "outputs": [],
   "source": [
    "train_gen = train_datagen.flow_from_dataframe(\n",
    "    dataframe=train,\n",
    "    x_col='Filepath',\n",
    "    y_col='Label',\n",
    "    target_size=(224,224),\n",
    "    class_mode='categorical',\n",
    "    batch_size=256,\n",
    "    shuffle=True,\n",
    "    seed=42\n",
    ")\n",
    "valid_gen = train_datagen.flow_from_dataframe(\n",
    "    dataframe=test,\n",
    "    x_col='Filepath',\n",
    "    y_col='Label',\n",
    "    target_size=(224,224),\n",
    "    class_mode='categorical',\n",
    "    batch_size=256,\n",
    "    shuffle=False,\n",
    "    seed=42\n",
    ")\n",
    "test_gen = test_datagen.flow_from_dataframe(\n",
    "    dataframe=test,\n",
    "    x_col='Filepath',\n",
    "    y_col='Label',\n",
    "    target_size=(224,224),\n",
    "    class_mode='categorical',\n",
    "    batch_size=256,\n",
    "    shuffle=False\n",
    ")"
   ]
  },
  {
   "cell_type": "code",
   "execution_count": null,
   "id": "6e1ef158",
   "metadata": {},
   "outputs": [],
   "source": [
    "pretrained_model= InceptionResNetV2(\n",
    "    input_shape=(224,224,3),\n",
    "    include_top=False,\n",
    "    weights='imagenet'\n",
    ")\n",
    "pretrained_model.traindable= False"
   ]
  },
  {
   "cell_type": "code",
   "execution_count": null,
   "id": "80d32090",
   "metadata": {
    "scrolled": true
   },
   "outputs": [],
   "source": [
    "model = Sequential([\n",
    "    pretrained_model,\n",
    "    Flatten(name=\"flatten\"),\n",
    "    Dense(1024, activation='relu', name='hidden_layer'),\n",
    "    Dropout(0.5),\n",
    "    Dense(2, activation='sigmoid', name='output')\n",
    "])"
   ]
  },
  {
   "cell_type": "code",
   "execution_count": null,
   "id": "6e5cc151",
   "metadata": {},
   "outputs": [],
   "source": [
    "model.compile(\n",
    "    optimizer='adam',  #can test different ones\n",
    "    loss='binary_crossentropy',\n",
    "    metrics=['accuracy']\n",
    ")"
   ]
  },
  {
   "cell_type": "code",
   "execution_count": null,
   "id": "3502ad8c",
   "metadata": {},
   "outputs": [],
   "source": [
    "#early stopping function if no improvement for more than 2 epochs\n",
    "my_callbacks = [EarlyStopping(monitor='val_accuracy',\n",
    "                              min_delta=0,\n",
    "                              patience=2,\n",
    "                              mode='max')]\n"
   ]
  },
  {
   "cell_type": "code",
   "execution_count": null,
   "id": "4897110d",
   "metadata": {},
   "outputs": [],
   "source": [
    "start = time.time()\n",
    "history= model.fit(\n",
    "    train_gen,\n",
    "    validation_data=valid_gen,\n",
    "    epochs=30\n",
    ")"
   ]
  },
  {
   "cell_type": "code",
   "execution_count": null,
   "id": "778baee6",
   "metadata": {},
   "outputs": [],
   "source": [
    "model.save(\"inception-resnet.h5\")\n",
    "time.time()-start"
   ]
  },
  {
   "cell_type": "code",
   "execution_count": null,
   "id": "421c740a",
   "metadata": {},
   "outputs": [],
   "source": [
    "pd.DataFrame(history.history)[['accuracy', 'val_accuracy']].plot()\n",
    "plt.title(\"Accuracy\")\n",
    "plt.show()\n",
    "\n",
    "pd.DataFrame(history.history)[['loss','val_loss']].plot()\n",
    "plt.title(\"Loss\")\n",
    "plt.show()\n"
   ]
  },
  {
   "cell_type": "code",
   "execution_count": null,
   "id": "02b82abc",
   "metadata": {},
   "outputs": [],
   "source": [
    "results= model.evaluate(test_gen, verbose=0)\n",
    "print(\"\\tTest Loss: {:5f}\".format(results[0]))\n",
    "print(\"test Accuracy: {:2f}%\".format(results[1]*100))"
   ]
  },
  {
   "cell_type": "code",
   "execution_count": null,
   "id": "0ddf16bd",
   "metadata": {},
   "outputs": [],
   "source": [
    "pred= model.predict(test_gen)\n",
    "pred=np.argmax(pred,axis=1)\n",
    "\n",
    "labels=(train_gen.class_indices)\n",
    "labels=dict((v,k) for k,v in labels.items())\n",
    "pred = [labels[k] for k in pred]\n"
   ]
  },
  {
   "cell_type": "code",
   "execution_count": null,
   "id": "27818662",
   "metadata": {
    "scrolled": false
   },
   "outputs": [],
   "source": [
    "y_test=list(test.Label)\n",
    "print(classification_report(y_test, pred))"
   ]
  },
  {
   "cell_type": "code",
   "execution_count": null,
   "id": "b0da0107",
   "metadata": {
    "scrolled": true
   },
   "outputs": [],
   "source": [
    "#confusion matrix\n",
    "confusion_matrix = metrics.confusion_matrix(y_test, pred)\n",
    "cm_display = metrics.ConfusionMatrixDisplay(confusion_matrix = confusion_matrix, display_labels = [False, True])\n",
    "cm_display.plot()\n",
    "plt.show()"
   ]
  }
 ],
 "metadata": {
  "kernelspec": {
   "display_name": "Python 3 (ipykernel)",
   "language": "python",
   "name": "python3"
  },
  "language_info": {
   "codemirror_mode": {
    "name": "ipython",
    "version": 3
   },
   "file_extension": ".py",
   "mimetype": "text/x-python",
   "name": "python",
   "nbconvert_exporter": "python",
   "pygments_lexer": "ipython3",
   "version": "3.9.12"
  }
 },
 "nbformat": 4,
 "nbformat_minor": 5
}
